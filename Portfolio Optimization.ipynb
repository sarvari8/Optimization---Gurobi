{
 "cells": [
  {
   "cell_type": "markdown",
   "metadata": {},
   "source": [
    "# Portfolio Optimization\n"
   ]
  },
  {
   "cell_type": "markdown",
   "metadata": {},
   "source": [
    "##### Pre-processing step: Estimate expected returns and covariance"
   ]
  },
  {
   "cell_type": "code",
   "execution_count": 1,
   "metadata": {},
   "outputs": [],
   "source": [
    "# Import gurobi and numpy\n",
    "from gurobipy import *\n",
    "import numpy as np\n",
    "from numpy import genfromtxt\n",
    "import csv\n",
    "\n",
    "## Get index of 4 tickers\n",
    "tick4 = [\"MSFT\",\"GS\",\"PG\",\"SCHP\"];\n",
    "\n",
    "# Get variable names\n",
    "with open('Prices.csv') as csvFile:\n",
    "    reader = csv.reader(csvFile)\n",
    "    tickers = next(reader) ## stores the tickers of all 390 stocks\n",
    "\n",
    "tickind = [];\n",
    "for t in tick4:\n",
    "    tickind.append(tickers.index(t)) ## retrieve index that corresponds to each ticker\n",
    "\n",
    "# Load data\n",
    "prices = genfromtxt('Prices.csv', delimiter=',',skip_header = 1)\n",
    "\n",
    "# get dimensions of data\n",
    "d = prices.shape[0]\n",
    "n = prices.shape[1]\n",
    "\n",
    "# calculate monthly returns of each stock\n",
    "returns = np.zeros((d-1,n))\n",
    "for stock in range(n):\n",
    "    for month in range(d-1):\n",
    "        returns[month,stock] = prices[month+1,stock]/prices[month,stock]-1\n",
    "        \n",
    "# Store average return (parameter r_i in portfolio optimization model)       \n",
    "avg_return = np.zeros(n)\n",
    "avg_return = np.mean(returns,axis=0)\n",
    "\n",
    "# Store covariance matrix (parameter C_ij in portfolio optimization model)\n",
    "C = np.zeros((n,n))\n",
    "C = np.cov(np.transpose(returns))"
   ]
  },
  {
   "cell_type": "markdown",
   "metadata": {},
   "source": [
    "## Model 1"
   ]
  },
  {
   "cell_type": "code",
   "execution_count": 2,
   "metadata": {},
   "outputs": [
    {
     "name": "stdout",
     "output_type": "stream",
     "text": [
      "Set parameter Username\n",
      "Academic license - for non-commercial use only - expires 2024-01-05\n"
     ]
    }
   ],
   "source": [
    "m1 = Model()\n",
    "\n",
    "w1 = m1.addVars(4)\n",
    "\n",
    "m1.addConstr(sum(w1[i]*avg_return[tickind[i]] for i in range(4)) >= 0.005)\n",
    "\n",
    "m1.addConstr(sum(w1[i] for i in range(4)) == 1)\n",
    "\n",
    "for i in range(4):\n",
    "    m1.addConstr(w1[i] >= 0)\n",
    "\n",
    "m1.setObjective(sum(w1[i]*w1[j]*C[tickind[i]][tickind[j]] for i in range(4) for j in range(4)), GRB.MINIMIZE)"
   ]
  },
  {
   "cell_type": "code",
   "execution_count": 3,
   "metadata": {},
   "outputs": [
    {
     "name": "stdout",
     "output_type": "stream",
     "text": [
      "Gurobi Optimizer version 10.0.0 build v10.0.0rc2 (mac64[rosetta2])\n",
      "\n",
      "CPU model: Apple M1\n",
      "Thread count: 8 physical cores, 8 logical processors, using up to 8 threads\n",
      "\n",
      "Optimize a model with 6 rows, 4 columns and 12 nonzeros\n",
      "Model fingerprint: 0x24f4abf9\n",
      "Model has 10 quadratic objective terms\n",
      "Coefficient statistics:\n",
      "  Matrix range     [2e-04, 1e+00]\n",
      "  Objective range  [0e+00, 0e+00]\n",
      "  QObjective range [5e-05, 7e-03]\n",
      "  Bounds range     [0e+00, 0e+00]\n",
      "  RHS range        [5e-03, 1e+00]\n",
      "Presolve removed 4 rows and 0 columns\n",
      "Presolve time: 0.01s\n",
      "Presolved: 2 rows, 4 columns, 8 nonzeros\n",
      "Presolved model has 10 quadratic objective terms\n",
      "Ordering time: 0.00s\n",
      "\n",
      "Barrier statistics:\n",
      " Free vars  : 3\n",
      " AA' NZ     : 1.000e+01\n",
      " Factor NZ  : 1.500e+01\n",
      " Factor Ops : 5.500e+01 (less than 1 second per iteration)\n",
      " Threads    : 1\n",
      "\n",
      "                  Objective                Residual\n",
      "Iter       Primal          Dual         Primal    Dual     Compl     Time\n",
      "   0   1.87864836e+05 -1.87864836e+05  3.50e+03 1.91e-07  1.00e+06     0s\n",
      "   1   5.03195868e+03 -5.16248579e+03  2.59e+02 1.41e-08  7.60e+04     0s\n",
      "   2   8.65509708e-03 -1.63980611e+02  5.37e-01 2.93e-11  1.91e+02     0s\n",
      "   3   9.86310203e-04 -1.11685777e+02  5.37e-07 3.01e-17  2.23e+01     0s\n",
      "   4   9.86278716e-04 -1.12363063e-01  8.01e-12 0.00e+00  2.27e-02     0s\n",
      "   5   9.62254421e-04 -7.39765491e-04  8.51e-14 0.00e+00  3.40e-04     0s\n",
      "   6   2.39090553e-04 -5.58090861e-04  2.78e-17 8.67e-19  1.59e-04     0s\n",
      "   7   1.89326156e-04  1.66699694e-04  2.78e-17 1.73e-18  4.53e-06     0s\n",
      "   8   1.77828223e-04  1.76221352e-04  3.82e-17 1.73e-18  3.21e-07     0s\n",
      "   9   1.77494541e-04  1.77442512e-04  1.47e-15 1.73e-18  1.04e-08     0s\n",
      "  10   1.77493265e-04  1.77493214e-04  2.91e-15 1.73e-18  1.03e-11     0s\n",
      "\n",
      "Barrier solved model in 10 iterations and 0.02 seconds (0.00 work units)\n",
      "Optimal objective 1.77493265e-04\n",
      "\n"
     ]
    }
   ],
   "source": [
    "m1.update()\n",
    "m1.optimize()"
   ]
  },
  {
   "cell_type": "markdown",
   "metadata": {},
   "source": [
    "## Model 2"
   ]
  },
  {
   "cell_type": "code",
   "execution_count": 4,
   "metadata": {},
   "outputs": [],
   "source": [
    "m2 = Model()\n",
    "\n",
    "w2 = m2.addVars(n)\n",
    "\n",
    "m2.addConstr(sum(w2[i]*avg_return[i] for i in range(n)) >= 0.005)\n",
    "\n",
    "m2.addConstr(sum(w2[i] for i in range(n)) == 1)\n",
    "\n",
    "for i in range(n):\n",
    "    m2.addConstr(w2[i] >= 0)\n",
    "\n",
    "m2.setObjective(sum(w2[i]*w2[j]*C[i][j] for i in range(n) for j in range(n)), GRB.MINIMIZE)"
   ]
  },
  {
   "cell_type": "code",
   "execution_count": 5,
   "metadata": {},
   "outputs": [
    {
     "name": "stdout",
     "output_type": "stream",
     "text": [
      "Gurobi Optimizer version 10.0.0 build v10.0.0rc2 (mac64[rosetta2])\n",
      "\n",
      "CPU model: Apple M1\n",
      "Thread count: 8 physical cores, 8 logical processors, using up to 8 threads\n",
      "\n",
      "Optimize a model with 392 rows, 390 columns and 1170 nonzeros\n",
      "Model fingerprint: 0x509900e3\n",
      "Model has 76245 quadratic objective terms\n",
      "Coefficient statistics:\n",
      "  Matrix range     [1e-06, 1e+00]\n",
      "  Objective range  [0e+00, 0e+00]\n",
      "  QObjective range [2e-07, 8e-02]\n",
      "  Bounds range     [0e+00, 0e+00]\n",
      "  RHS range        [5e-03, 1e+00]\n",
      "Presolve removed 390 rows and 0 columns\n",
      "Presolve time: 0.01s\n",
      "Presolved: 2 rows, 390 columns, 780 nonzeros\n",
      "Presolved model has 76245 quadratic objective terms\n",
      "Ordering time: 0.00s\n",
      "\n",
      "Barrier statistics:\n",
      " Free vars  : 59\n",
      " AA' NZ     : 1.830e+03\n",
      " Factor NZ  : 1.891e+03\n",
      " Factor Ops : 7.753e+04 (less than 1 second per iteration)\n",
      " Threads    : 8\n",
      "\n",
      "                  Objective                Residual\n",
      "Iter       Primal          Dual         Primal    Dual     Compl     Time\n",
      "   0   2.89821559e-13 -2.89821559e-13  3.90e+05 3.22e-07  1.00e+06     0s\n",
      "   1   2.43039969e+03 -3.41875696e+03  1.04e+04 8.59e-09  2.67e+04     0s\n",
      "   2   3.54479277e-03 -1.01970099e+03  9.49e+00 7.85e-12  2.70e+01     0s\n",
      "   3   9.56987699e-04 -8.30932860e+02  9.49e-06 6.94e-18  2.13e+00     0s\n",
      "   4   9.56984024e-04 -8.32258791e-01  2.62e-11 1.94e-13  2.13e-03     0s\n",
      "   5   9.54080582e-04 -2.12856913e-03  6.82e-14 5.39e-16  7.88e-06     0s\n",
      "   6   5.35418588e-04 -5.84990492e-04  6.00e-15 4.97e-17  2.87e-06     0s\n",
      "   7   2.01507881e-04 -3.89216325e-04  1.55e-15 1.73e-18  1.51e-06     0s\n",
      "   8   1.34606944e-04 -1.49691131e-04  2.30e-17 8.67e-19  7.27e-07     0s\n",
      "   9   7.89595224e-05 -1.75108231e-05  9.99e-16 8.67e-19  2.47e-07     0s\n",
      "  10   5.10158056e-05  1.43645079e-05  6.66e-16 4.34e-19  9.37e-08     0s\n",
      "  11   3.92512246e-05  2.40840857e-05  1.11e-15 4.34e-19  3.88e-08     0s\n",
      "  12   3.31521270e-05  2.75338355e-05  2.33e-15 4.34e-19  1.44e-08     0s\n",
      "  13   2.98855042e-05  2.86283978e-05  8.88e-16 2.17e-19  3.22e-09     0s\n",
      "  14   2.88057421e-05  2.87835444e-05  1.44e-14 4.34e-19  5.68e-11     0s\n",
      "  15   2.87857564e-05  2.87849288e-05  4.95e-14 2.17e-19  2.12e-12     0s\n",
      "\n",
      "Barrier solved model in 15 iterations and 0.04 seconds (0.01 work units)\n",
      "Optimal objective 2.87857564e-05\n",
      "\n"
     ]
    }
   ],
   "source": [
    "m2.update()\n",
    "m2.optimize()"
   ]
  },
  {
   "cell_type": "markdown",
   "metadata": {},
   "source": [
    "## Model 3"
   ]
  },
  {
   "cell_type": "code",
   "execution_count": 6,
   "metadata": {},
   "outputs": [],
   "source": [
    "m3 = Model()\n",
    "x = m3.addVars(n,vtype = GRB.BINARY)\n",
    "w3 = m3.addVars(n)\n",
    "M = 100\n",
    "\n",
    "for i in range(n):\n",
    "    m3.addConstr(w3[i] >= 0)\n",
    "\n",
    "for i in range(n):\n",
    "    m3.addConstr(w3[i] <= M*x[i])\n",
    "\n",
    "m3.addConstr(sum(x[i] for i in range(n)) <= 4)\n",
    "\n",
    "m3.addConstr(sum(w3[i]*avg_return[i] for i in range(n)) >= 0.005)\n",
    "m3.addConstr(sum(w3[i] for i in range(n)) == 1)\n",
    "\n",
    "m3.setObjective(sum(w3[i]*w3[j]*C[i][j] for i in range(n) for j in range(n)), GRB.MINIMIZE)"
   ]
  },
  {
   "cell_type": "code",
   "execution_count": 7,
   "metadata": {},
   "outputs": [
    {
     "name": "stdout",
     "output_type": "stream",
     "text": [
      "Gurobi Optimizer version 10.0.0 build v10.0.0rc2 (mac64[rosetta2])\n",
      "\n",
      "CPU model: Apple M1\n",
      "Thread count: 8 physical cores, 8 logical processors, using up to 8 threads\n",
      "\n",
      "Optimize a model with 783 rows, 780 columns and 2340 nonzeros\n",
      "Model fingerprint: 0xb4812368\n",
      "Model has 76245 quadratic objective terms\n",
      "Variable types: 390 continuous, 390 integer (390 binary)\n",
      "Coefficient statistics:\n",
      "  Matrix range     [1e-06, 1e+02]\n",
      "  Objective range  [0e+00, 0e+00]\n",
      "  QObjective range [2e-07, 8e-02]\n",
      "  Bounds range     [1e+00, 1e+00]\n",
      "  RHS range        [5e-03, 4e+00]\n",
      "Found heuristic solution: objective 0.0136011\n",
      "Presolve removed 390 rows and 0 columns\n",
      "Presolve time: 0.01s\n",
      "Presolved: 393 rows, 780 columns, 1950 nonzeros\n",
      "Presolved model has 76245 quadratic objective terms\n",
      "Variable types: 390 continuous, 390 integer (390 binary)\n",
      "\n",
      "Root relaxation: objective 2.878501e-05, 129 iterations, 0.00 seconds (0.01 work units)\n",
      "\n",
      "    Nodes    |    Current Node    |     Objective Bounds      |     Work\n",
      " Expl Unexpl |  Obj  Depth IntInf | Incumbent    BestBd   Gap | It/Node Time\n",
      "\n",
      "     0     0    0.00003    0   21    0.01360    0.00003   100%     -    0s\n",
      "H    0     0                       0.0001218    0.00003  76.4%     -    0s\n",
      "     0     0    0.00003    0   21    0.00012    0.00003  76.4%     -    0s\n",
      "H    0     0                       0.0000723    0.00003  60.2%     -    0s\n",
      "     0     0    0.00003    0   21    0.00007    0.00003  59.4%     -    0s\n",
      "     0     0    0.00003    0   21    0.00007    0.00003  59.4%     -    0s\n",
      "     0     2    0.00003    0   21    0.00007    0.00003  59.4%     -    0s\n",
      "H  133    79                       0.0000707    0.00003  58.4%  73.9    0s\n",
      "H  136    79                       0.0000705    0.00003  58.3%  72.8    0s\n",
      "H  138    79                       0.0000676    0.00003  56.5%  72.2    0s\n",
      "H 2225   929                       0.0000675    0.00003  51.5%  63.4    1s\n",
      "  8670  3073    0.00006   32   10    0.00007    0.00004  44.3%  52.2    5s\n",
      " 28087 12036    0.00005   29   21    0.00007    0.00005  24.7%  42.2   10s\n",
      " 36461 10137     cutoff   41         0.00007    0.00006  13.6%  48.4   15s\n",
      " 44761  5974    0.00006   34   24    0.00007    0.00006  7.27%  53.6   20s\n",
      "\n",
      "Cutting planes:\n",
      "  Implied bound: 2\n",
      "  MIR: 20\n",
      "  Flow cover: 12\n",
      "  Relax-and-lift: 2\n",
      "\n",
      "Explored 53790 nodes (2797007 simplex iterations) in 22.99 seconds (64.72 work units)\n",
      "Thread count was 8 (of 8 available processors)\n",
      "\n",
      "Solution count 7: 6.75347e-05 6.75857e-05 7.04798e-05 ... 0.0136011\n",
      "\n",
      "Optimal solution found (tolerance 1.00e-04)\n",
      "Best objective 6.753470760728e-05, best bound 6.753470760728e-05, gap 0.0000%\n"
     ]
    }
   ],
   "source": [
    "m3.update()\n",
    "m3.optimize()"
   ]
  },
  {
   "cell_type": "markdown",
   "metadata": {},
   "source": [
    "#### Question 1 a)"
   ]
  },
  {
   "cell_type": "code",
   "execution_count": 8,
   "metadata": {},
   "outputs": [
    {
     "name": "stdout",
     "output_type": "stream",
     "text": [
      "Optimal Objective Value: 0.0001774932651657925\n",
      "Solver time in seconds: 0.02113485336303711\n",
      "Weight of MSFT is 0.23711749137102014\n",
      "Weight of GS is 0.025859835330682878\n",
      "Weight of PG is 1.5749710132192858e-09\n",
      "Weight of SCHP is 0.7370226717233492\n"
     ]
    }
   ],
   "source": [
    "print('Optimal Objective Value:', m1.ObjVal)\n",
    "print('Solver time in seconds:', m1.runtime)\n",
    "\n",
    "for i in range(4):\n",
    "    print('Weight of',tickers[tickind[i]],'is', w1[i].x)"
   ]
  },
  {
   "cell_type": "markdown",
   "metadata": {},
   "source": [
    "#### Question 1 b)"
   ]
  },
  {
   "cell_type": "code",
   "execution_count": 9,
   "metadata": {},
   "outputs": [
    {
     "name": "stdout",
     "output_type": "stream",
     "text": [
      "Optimal Objective Value: 2.8785756399297445e-05\n",
      "Solver time in seconds: 0.040003061294555664\n"
     ]
    }
   ],
   "source": [
    "print('Optimal Objective Value:', m2.ObjVal)\n",
    "print('Solver time in seconds:', m2.runtime)"
   ]
  },
  {
   "cell_type": "markdown",
   "metadata": {},
   "source": [
    "#### Question 1 c)"
   ]
  },
  {
   "cell_type": "code",
   "execution_count": 10,
   "metadata": {},
   "outputs": [
    {
     "name": "stdout",
     "output_type": "stream",
     "text": [
      "Optimal Objective Value: 6.753470760728118e-05\n",
      "Solver time in seconds: 22.99446702003479\n",
      "Weight of CME is 0.1264114192949047\n",
      "Weight of LLY is 0.07547619035437456\n",
      "Weight of NVDA is 0.04375370672843181\n",
      "Weight of BND is 0.7543586836222889\n"
     ]
    }
   ],
   "source": [
    "print('Optimal Objective Value:', m3.ObjVal)\n",
    "print('Solver time in seconds:', m3.runtime)\n",
    "\n",
    "for i in range(n):\n",
    "    if x[i].X:\n",
    "        print('Weight of',tickers[i],'is', w3[i].X)"
   ]
  },
  {
   "cell_type": "markdown",
   "metadata": {},
   "source": [
    "#### Question 2 a)"
   ]
  },
  {
   "cell_type": "markdown",
   "metadata": {},
   "source": [
    "Optimal risk of model 1 is higher than that of model 2 since model 2 has a much higher number of stocks, which allows for more diversification of the portfolio. Since a large number of stocks are present in model 2, there's a higher chance of minimizing risk by investing in many different stocks rather than just 4."
   ]
  },
  {
   "cell_type": "markdown",
   "metadata": {},
   "source": [
    "#### Question 2 b)"
   ]
  },
  {
   "cell_type": "markdown",
   "metadata": {},
   "source": [
    "Optimal risk of model 3 is higher than that of model 2 since model 2 has a much higher number of stocks. However, the model is selecting a combination of at most 4 stocks that together produce the least risk possible. It goes through all the combinations of upto 4 stocks that when put together in a portfolio, have minimum risk."
   ]
  },
  {
   "cell_type": "markdown",
   "metadata": {},
   "source": [
    "#### Question 3 a)"
   ]
  },
  {
   "cell_type": "code",
   "execution_count": 11,
   "metadata": {},
   "outputs": [
    {
     "name": "stdout",
     "output_type": "stream",
     "text": [
      "Set parameter TimeLimit to value 10\n",
      "Gurobi Optimizer version 10.0.0 build v10.0.0rc2 (mac64[rosetta2])\n",
      "\n",
      "CPU model: Apple M1\n",
      "Thread count: 8 physical cores, 8 logical processors, using up to 8 threads\n",
      "\n",
      "Optimize a model with 783 rows, 780 columns and 2340 nonzeros\n",
      "Model fingerprint: 0xb4812368\n",
      "Model has 76245 quadratic objective terms\n",
      "Variable types: 390 continuous, 390 integer (390 binary)\n",
      "Coefficient statistics:\n",
      "  Matrix range     [1e-06, 1e+02]\n",
      "  Objective range  [0e+00, 0e+00]\n",
      "  QObjective range [2e-07, 8e-02]\n",
      "  Bounds range     [1e+00, 1e+00]\n",
      "  RHS range        [5e-03, 4e+00]\n",
      "Found heuristic solution: objective 0.0136011\n",
      "Presolve removed 390 rows and 0 columns\n",
      "Presolve time: 0.01s\n",
      "Presolved: 393 rows, 780 columns, 1950 nonzeros\n",
      "Presolved model has 76245 quadratic objective terms\n",
      "Variable types: 390 continuous, 390 integer (390 binary)\n",
      "\n",
      "Root relaxation: objective 2.878501e-05, 129 iterations, 0.00 seconds (0.01 work units)\n",
      "\n",
      "    Nodes    |    Current Node    |     Objective Bounds      |     Work\n",
      " Expl Unexpl |  Obj  Depth IntInf | Incumbent    BestBd   Gap | It/Node Time\n",
      "\n",
      "     0     0    0.00003    0   21    0.01360    0.00003   100%     -    0s\n",
      "H    0     0                       0.0001218    0.00003  76.4%     -    0s\n",
      "     0     0    0.00003    0   21    0.00012    0.00003  76.4%     -    0s\n",
      "H    0     0                       0.0000723    0.00003  60.2%     -    0s\n",
      "     0     0    0.00003    0   21    0.00007    0.00003  59.4%     -    0s\n",
      "     0     0    0.00003    0   21    0.00007    0.00003  59.4%     -    0s\n",
      "     0     2    0.00003    0   21    0.00007    0.00003  59.4%     -    0s\n",
      "H  133    79                       0.0000707    0.00003  58.4%  73.9    0s\n",
      "H  136    79                       0.0000705    0.00003  58.3%  72.8    0s\n",
      "H  138    79                       0.0000676    0.00003  56.5%  72.2    0s\n",
      "H 2225   929                       0.0000675    0.00003  51.5%  63.4    1s\n",
      "  9122  3142     cutoff   56         0.00007    0.00004  44.3%  51.0    5s\n",
      " 28087 12000    0.00005   29   21    0.00007    0.00005  24.7%  42.2   10s\n",
      "\n",
      "Explored 28418 nodes (1198542 simplex iterations) in 10.01 seconds (28.01 work units)\n",
      "Thread count was 8 (of 8 available processors)\n",
      "\n",
      "Solution count 7: 6.75347e-05 6.75857e-05 7.04798e-05 ... 0.0136011\n",
      "\n",
      "Time limit reached\n",
      "Best objective 6.753470760728e-05, best bound 5.095211957015e-05, gap 24.5542%\n"
     ]
    }
   ],
   "source": [
    "m3a1 = Model()\n",
    "xa1 = m3a1.addVars(n,vtype = GRB.BINARY)\n",
    "w3a1 = m3a1.addVars(n)\n",
    "M = 100\n",
    "\n",
    "for i in range(n):\n",
    "    m3a1.addConstr(w3a1[i] >= 0)\n",
    "\n",
    "for i in range(n):\n",
    "    m3a1.addConstr(w3a1[i] <= M*xa1[i])\n",
    "\n",
    "m3a1.addConstr(sum(xa1[i] for i in range(n)) <= 4)\n",
    "\n",
    "m3a1.addConstr(sum(w3a1[i]*avg_return[i] for i in range(n)) >= 0.005)\n",
    "m3a1.addConstr(sum(w3a1[i] for i in range(n)) == 1)\n",
    "\n",
    "m3a1.setObjective(sum(w3a1[i]*w3a1[j]*C[i][j] for i in range(n) for j in range(n)), GRB.MINIMIZE)\n",
    "\n",
    "m3a1.Params.TimeLimit = 10.0\n",
    "\n",
    "m3a1.update()\n",
    "m3a1.optimize()"
   ]
  },
  {
   "cell_type": "code",
   "execution_count": 12,
   "metadata": {},
   "outputs": [
    {
     "name": "stdout",
     "output_type": "stream",
     "text": [
      "Optimal Objective Value: 6.753470760728118e-05\n"
     ]
    }
   ],
   "source": [
    "print('Optimal Objective Value:', m3a1.ObjVal)"
   ]
  },
  {
   "cell_type": "markdown",
   "metadata": {},
   "source": [
    "#### We obtain the same optimal value as the original model with no time limit set. I notice that the best bound value is lower than the optimal value."
   ]
  },
  {
   "cell_type": "markdown",
   "metadata": {},
   "source": [
    "#### Question 3 b)"
   ]
  },
  {
   "cell_type": "code",
   "execution_count": 13,
   "metadata": {},
   "outputs": [
    {
     "name": "stdout",
     "output_type": "stream",
     "text": [
      "Set parameter MIPGap to value 0.1\n",
      "Gurobi Optimizer version 10.0.0 build v10.0.0rc2 (mac64[rosetta2])\n",
      "\n",
      "CPU model: Apple M1\n",
      "Thread count: 8 physical cores, 8 logical processors, using up to 8 threads\n",
      "\n",
      "Optimize a model with 783 rows, 780 columns and 2340 nonzeros\n",
      "Model fingerprint: 0xb4812368\n",
      "Model has 76245 quadratic objective terms\n",
      "Variable types: 390 continuous, 390 integer (390 binary)\n",
      "Coefficient statistics:\n",
      "  Matrix range     [1e-06, 1e+02]\n",
      "  Objective range  [0e+00, 0e+00]\n",
      "  QObjective range [2e-07, 8e-02]\n",
      "  Bounds range     [1e+00, 1e+00]\n",
      "  RHS range        [5e-03, 4e+00]\n",
      "Found heuristic solution: objective 0.0136011\n",
      "Presolve removed 390 rows and 0 columns\n",
      "Presolve time: 0.01s\n",
      "Presolved: 393 rows, 780 columns, 1950 nonzeros\n",
      "Presolved model has 76245 quadratic objective terms\n",
      "Variable types: 390 continuous, 390 integer (390 binary)\n",
      "\n",
      "Root relaxation: objective 2.878501e-05, 129 iterations, 0.00 seconds (0.01 work units)\n",
      "\n",
      "    Nodes    |    Current Node    |     Objective Bounds      |     Work\n",
      " Expl Unexpl |  Obj  Depth IntInf | Incumbent    BestBd   Gap | It/Node Time\n",
      "\n",
      "     0     0    0.00003    0   21    0.01360    0.00003   100%     -    0s\n",
      "H    0     0                       0.0001218    0.00003  76.4%     -    0s\n",
      "     0     0    0.00003    0   21    0.00012    0.00003  76.4%     -    0s\n",
      "H    0     0                       0.0000723    0.00003  60.2%     -    0s\n",
      "     0     0    0.00003    0   21    0.00007    0.00003  60.2%     -    0s\n",
      "     0     0    0.00003    0   21    0.00007    0.00003  60.2%     -    0s\n",
      "     0     2    0.00003    0   21    0.00007    0.00003  60.0%     -    0s\n",
      "H   76    60                       0.0000675    0.00003  57.2%  48.9    0s\n",
      "  8576  3108     cutoff   19         0.00007    0.00004  43.9%  57.1    5s\n",
      " 26784 10783     cutoff   47         0.00007    0.00005  24.7%  46.1   10s\n",
      " 38276  9993     cutoff   49         0.00007    0.00006  13.4%  47.0   15s\n",
      "\n",
      "Cutting planes:\n",
      "  Implied bound: 1\n",
      "  MIR: 20\n",
      "  Flow cover: 4\n",
      "\n",
      "Explored 45666 nodes (2246641 simplex iterations) in 18.37 seconds (51.10 work units)\n",
      "Thread count was 8 (of 8 available processors)\n",
      "\n",
      "Solution count 4: 6.75347e-05 7.23026e-05 0.000121819 0.0136011 \n",
      "\n",
      "Optimal solution found (tolerance 1.00e-01)\n",
      "Best objective 6.753470760728e-05, best bound 6.097192100188e-05, gap 9.7177%\n"
     ]
    }
   ],
   "source": [
    "m3b = Model()\n",
    "xb = m3b.addVars(n,vtype = GRB.BINARY)\n",
    "w3b = m3b.addVars(n)\n",
    "M = 100\n",
    "\n",
    "for i in range(n):\n",
    "    m3b.addConstr(w3b[i] >= 0)\n",
    "\n",
    "for i in range(n):\n",
    "    m3b.addConstr(w3b[i] <= M*xb[i])\n",
    "\n",
    "m3b.addConstr(sum(xb[i] for i in range(n)) <= 4)\n",
    "\n",
    "m3b.addConstr(sum(w3b[i]*avg_return[i] for i in range(n)) >= 0.005)\n",
    "m3b.addConstr(sum(w3b[i] for i in range(n)) == 1)\n",
    "\n",
    "m3b.setObjective(sum(w3b[i]*w3b[j]*C[i][j] for i in range(n) for j in range(n)), GRB.MINIMIZE)\n",
    "\n",
    "m3b.Params.MIPGap = 0.1\n",
    "\n",
    "m3b.update()\n",
    "m3b.optimize()"
   ]
  },
  {
   "cell_type": "code",
   "execution_count": 14,
   "metadata": {},
   "outputs": [
    {
     "name": "stdout",
     "output_type": "stream",
     "text": [
      "Solver time in seconds: 18.36990189552307\n"
     ]
    }
   ],
   "source": [
    "print('Solver time in seconds:', m3b.runtime)"
   ]
  },
  {
   "cell_type": "markdown",
   "metadata": {},
   "source": [
    "#### The solver time is lower than that of the original model with no gap defined, since we have asked the model to stop at a defined value of gap."
   ]
  }
 ],
 "metadata": {
  "kernelspec": {
   "display_name": "Python 3 (ipykernel)",
   "language": "python",
   "name": "python3"
  },
  "language_info": {
   "codemirror_mode": {
    "name": "ipython",
    "version": 3
   },
   "file_extension": ".py",
   "mimetype": "text/x-python",
   "name": "python",
   "nbconvert_exporter": "python",
   "pygments_lexer": "ipython3",
   "version": "3.9.13"
  }
 },
 "nbformat": 4,
 "nbformat_minor": 4
}

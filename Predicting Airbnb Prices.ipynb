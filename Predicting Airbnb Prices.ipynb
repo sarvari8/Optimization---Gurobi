{
 "cells": [
  {
   "cell_type": "markdown",
   "id": "a254bb7f-d1e8-4972-9ae9-48ab337b056f",
   "metadata": {},
   "source": [
    "## Predicting Airbnb Prices"
   ]
  },
  {
   "cell_type": "markdown",
   "id": "7f8bc9f6-9053-48e1-9857-e40c296d0869",
   "metadata": {},
   "source": [
    "#### Model 1:"
   ]
  },
  {
   "cell_type": "code",
   "execution_count": 1,
   "id": "99df36fd-fe84-4866-a881-f9a9d37567ce",
   "metadata": {},
   "outputs": [],
   "source": [
    "import numpy as np\n",
    "import pandas as pd\n",
    "from gurobipy import *"
   ]
  },
  {
   "cell_type": "code",
   "execution_count": 2,
   "id": "820871b1-8dd4-402f-b459-ffd14327d77f",
   "metadata": {},
   "outputs": [],
   "source": [
    "df = pd.read_csv('AirbnbTrain.csv')\n",
    "df1 = pd.read_csv('AirbnbTest.csv')"
   ]
  },
  {
   "cell_type": "code",
   "execution_count": 3,
   "id": "0fd7f915-38e1-4c72-b4e4-a9691173e603",
   "metadata": {},
   "outputs": [
    {
     "data": {
      "text/html": [
       "<div>\n",
       "<style scoped>\n",
       "    .dataframe tbody tr th:only-of-type {\n",
       "        vertical-align: middle;\n",
       "    }\n",
       "\n",
       "    .dataframe tbody tr th {\n",
       "        vertical-align: top;\n",
       "    }\n",
       "\n",
       "    .dataframe thead th {\n",
       "        text-align: right;\n",
       "    }\n",
       "</style>\n",
       "<table border=\"1\" class=\"dataframe\">\n",
       "  <thead>\n",
       "    <tr style=\"text-align: right;\">\n",
       "      <th></th>\n",
       "      <th>latitude</th>\n",
       "      <th>longitude</th>\n",
       "      <th>Entire home</th>\n",
       "      <th>accommodates</th>\n",
       "      <th>bathrooms</th>\n",
       "      <th>bedrooms</th>\n",
       "      <th>beds</th>\n",
       "      <th>cleaning_fee</th>\n",
       "      <th>minimum_nights</th>\n",
       "      <th>number_of_reviews</th>\n",
       "      <th>review_scores_rating</th>\n",
       "      <th>instant_bookable</th>\n",
       "      <th>price</th>\n",
       "    </tr>\n",
       "  </thead>\n",
       "  <tbody>\n",
       "    <tr>\n",
       "      <th>0</th>\n",
       "      <td>34.103701</td>\n",
       "      <td>-118.332241</td>\n",
       "      <td>1</td>\n",
       "      <td>13</td>\n",
       "      <td>2.0</td>\n",
       "      <td>3</td>\n",
       "      <td>2</td>\n",
       "      <td>150</td>\n",
       "      <td>2</td>\n",
       "      <td>1</td>\n",
       "      <td>100</td>\n",
       "      <td>1</td>\n",
       "      <td>350</td>\n",
       "    </tr>\n",
       "    <tr>\n",
       "      <th>1</th>\n",
       "      <td>34.099484</td>\n",
       "      <td>-118.331645</td>\n",
       "      <td>1</td>\n",
       "      <td>8</td>\n",
       "      <td>2.0</td>\n",
       "      <td>2</td>\n",
       "      <td>4</td>\n",
       "      <td>150</td>\n",
       "      <td>1</td>\n",
       "      <td>11</td>\n",
       "      <td>96</td>\n",
       "      <td>1</td>\n",
       "      <td>190</td>\n",
       "    </tr>\n",
       "    <tr>\n",
       "      <th>2</th>\n",
       "      <td>34.104321</td>\n",
       "      <td>-118.329662</td>\n",
       "      <td>1</td>\n",
       "      <td>4</td>\n",
       "      <td>1.0</td>\n",
       "      <td>0</td>\n",
       "      <td>1</td>\n",
       "      <td>55</td>\n",
       "      <td>1</td>\n",
       "      <td>1</td>\n",
       "      <td>80</td>\n",
       "      <td>0</td>\n",
       "      <td>85</td>\n",
       "    </tr>\n",
       "    <tr>\n",
       "      <th>3</th>\n",
       "      <td>34.101028</td>\n",
       "      <td>-118.317848</td>\n",
       "      <td>0</td>\n",
       "      <td>2</td>\n",
       "      <td>1.0</td>\n",
       "      <td>1</td>\n",
       "      <td>1</td>\n",
       "      <td>20</td>\n",
       "      <td>1</td>\n",
       "      <td>8</td>\n",
       "      <td>98</td>\n",
       "      <td>0</td>\n",
       "      <td>75</td>\n",
       "    </tr>\n",
       "    <tr>\n",
       "      <th>4</th>\n",
       "      <td>34.098292</td>\n",
       "      <td>-118.324980</td>\n",
       "      <td>1</td>\n",
       "      <td>2</td>\n",
       "      <td>1.0</td>\n",
       "      <td>1</td>\n",
       "      <td>1</td>\n",
       "      <td>20</td>\n",
       "      <td>1</td>\n",
       "      <td>11</td>\n",
       "      <td>96</td>\n",
       "      <td>0</td>\n",
       "      <td>130</td>\n",
       "    </tr>\n",
       "  </tbody>\n",
       "</table>\n",
       "</div>"
      ],
      "text/plain": [
       "    latitude   longitude  Entire home  accommodates  bathrooms  bedrooms  \\\n",
       "0  34.103701 -118.332241            1            13        2.0         3   \n",
       "1  34.099484 -118.331645            1             8        2.0         2   \n",
       "2  34.104321 -118.329662            1             4        1.0         0   \n",
       "3  34.101028 -118.317848            0             2        1.0         1   \n",
       "4  34.098292 -118.324980            1             2        1.0         1   \n",
       "\n",
       "   beds  cleaning_fee  minimum_nights  number_of_reviews  \\\n",
       "0     2           150               2                  1   \n",
       "1     4           150               1                 11   \n",
       "2     1            55               1                  1   \n",
       "3     1            20               1                  8   \n",
       "4     1            20               1                 11   \n",
       "\n",
       "   review_scores_rating  instant_bookable  price  \n",
       "0                   100                 1    350  \n",
       "1                    96                 1    190  \n",
       "2                    80                 0     85  \n",
       "3                    98                 0     75  \n",
       "4                    96                 0    130  "
      ]
     },
     "execution_count": 3,
     "metadata": {},
     "output_type": "execute_result"
    }
   ],
   "source": [
    "df.head()"
   ]
  },
  {
   "cell_type": "code",
   "execution_count": 4,
   "id": "81008970-cb73-41e5-a2ec-a61713dce6cf",
   "metadata": {},
   "outputs": [
    {
     "data": {
      "text/html": [
       "<div>\n",
       "<style scoped>\n",
       "    .dataframe tbody tr th:only-of-type {\n",
       "        vertical-align: middle;\n",
       "    }\n",
       "\n",
       "    .dataframe tbody tr th {\n",
       "        vertical-align: top;\n",
       "    }\n",
       "\n",
       "    .dataframe thead th {\n",
       "        text-align: right;\n",
       "    }\n",
       "</style>\n",
       "<table border=\"1\" class=\"dataframe\">\n",
       "  <thead>\n",
       "    <tr style=\"text-align: right;\">\n",
       "      <th></th>\n",
       "      <th>latitude</th>\n",
       "      <th>longitude</th>\n",
       "      <th>Entire home</th>\n",
       "      <th>accommodates</th>\n",
       "      <th>bathrooms</th>\n",
       "      <th>bedrooms</th>\n",
       "      <th>beds</th>\n",
       "      <th>cleaning_fee</th>\n",
       "      <th>minimum_nights</th>\n",
       "      <th>number_of_reviews</th>\n",
       "      <th>review_scores_rating</th>\n",
       "      <th>instant_bookable</th>\n",
       "      <th>price</th>\n",
       "    </tr>\n",
       "  </thead>\n",
       "  <tbody>\n",
       "    <tr>\n",
       "      <th>0</th>\n",
       "      <td>34.100604</td>\n",
       "      <td>-118.341787</td>\n",
       "      <td>0</td>\n",
       "      <td>2</td>\n",
       "      <td>1.0</td>\n",
       "      <td>1</td>\n",
       "      <td>1</td>\n",
       "      <td>40</td>\n",
       "      <td>1</td>\n",
       "      <td>261</td>\n",
       "      <td>96</td>\n",
       "      <td>1</td>\n",
       "      <td>100</td>\n",
       "    </tr>\n",
       "    <tr>\n",
       "      <th>1</th>\n",
       "      <td>34.100607</td>\n",
       "      <td>-118.350583</td>\n",
       "      <td>1</td>\n",
       "      <td>8</td>\n",
       "      <td>2.0</td>\n",
       "      <td>2</td>\n",
       "      <td>2</td>\n",
       "      <td>100</td>\n",
       "      <td>2</td>\n",
       "      <td>10</td>\n",
       "      <td>98</td>\n",
       "      <td>0</td>\n",
       "      <td>300</td>\n",
       "    </tr>\n",
       "    <tr>\n",
       "      <th>2</th>\n",
       "      <td>34.100610</td>\n",
       "      <td>-118.347617</td>\n",
       "      <td>1</td>\n",
       "      <td>2</td>\n",
       "      <td>1.0</td>\n",
       "      <td>1</td>\n",
       "      <td>1</td>\n",
       "      <td>80</td>\n",
       "      <td>2</td>\n",
       "      <td>1</td>\n",
       "      <td>100</td>\n",
       "      <td>1</td>\n",
       "      <td>125</td>\n",
       "    </tr>\n",
       "    <tr>\n",
       "      <th>3</th>\n",
       "      <td>34.100611</td>\n",
       "      <td>-118.342180</td>\n",
       "      <td>1</td>\n",
       "      <td>3</td>\n",
       "      <td>1.0</td>\n",
       "      <td>0</td>\n",
       "      <td>2</td>\n",
       "      <td>55</td>\n",
       "      <td>2</td>\n",
       "      <td>54</td>\n",
       "      <td>97</td>\n",
       "      <td>1</td>\n",
       "      <td>169</td>\n",
       "    </tr>\n",
       "    <tr>\n",
       "      <th>4</th>\n",
       "      <td>34.100618</td>\n",
       "      <td>-118.342791</td>\n",
       "      <td>1</td>\n",
       "      <td>4</td>\n",
       "      <td>1.0</td>\n",
       "      <td>1</td>\n",
       "      <td>1</td>\n",
       "      <td>70</td>\n",
       "      <td>2</td>\n",
       "      <td>233</td>\n",
       "      <td>92</td>\n",
       "      <td>1</td>\n",
       "      <td>119</td>\n",
       "    </tr>\n",
       "  </tbody>\n",
       "</table>\n",
       "</div>"
      ],
      "text/plain": [
       "    latitude   longitude  Entire home  accommodates  bathrooms  bedrooms  \\\n",
       "0  34.100604 -118.341787            0             2        1.0         1   \n",
       "1  34.100607 -118.350583            1             8        2.0         2   \n",
       "2  34.100610 -118.347617            1             2        1.0         1   \n",
       "3  34.100611 -118.342180            1             3        1.0         0   \n",
       "4  34.100618 -118.342791            1             4        1.0         1   \n",
       "\n",
       "   beds  cleaning_fee  minimum_nights  number_of_reviews  \\\n",
       "0     1            40               1                261   \n",
       "1     2           100               2                 10   \n",
       "2     1            80               2                  1   \n",
       "3     2            55               2                 54   \n",
       "4     1            70               2                233   \n",
       "\n",
       "   review_scores_rating  instant_bookable  price  \n",
       "0                    96                 1    100  \n",
       "1                    98                 0    300  \n",
       "2                   100                 1    125  \n",
       "3                    97                 1    169  \n",
       "4                    92                 1    119  "
      ]
     },
     "execution_count": 4,
     "metadata": {},
     "output_type": "execute_result"
    }
   ],
   "source": [
    "df1.head()"
   ]
  },
  {
   "cell_type": "code",
   "execution_count": 5,
   "id": "38f294cb-c10e-4c6e-8136-b4a63498b0a4",
   "metadata": {},
   "outputs": [],
   "source": [
    "# Splitting into X and Y\n",
    "X = df.iloc[:,:-1].values\n",
    "Y = df.iloc[:,-1].values\n",
    "n = len(df.index)\n",
    "m = 12"
   ]
  },
  {
   "cell_type": "code",
   "execution_count": 6,
   "id": "4e3eba93-921c-4699-b188-ff78d70a36aa",
   "metadata": {},
   "outputs": [
    {
     "name": "stdout",
     "output_type": "stream",
     "text": [
      "Set parameter Username\n",
      "Academic license - for non-commercial use only - expires 2024-01-05\n"
     ]
    }
   ],
   "source": [
    "m1 = Model()\n",
    "\n",
    "beta = m1.addVars(m, lb = -GRB.INFINITY)\n",
    "z = m1.addVars(n)\n",
    "\n",
    "for i in range(n):\n",
    "    m1.addConstr(z[i] >= Y[i] - sum(beta[j]*X[i][j] for j in range(m)))\n",
    "    \n",
    "for i in range(n):\n",
    "    m1.addConstr(z[i] >= sum(beta[j]*X[i][j] for j in range(m)) - Y[i])\n",
    "\n",
    "m1.setObjective((sum(z[i] for i in range(n))/n), GRB.MINIMIZE)"
   ]
  },
  {
   "cell_type": "code",
   "execution_count": 7,
   "id": "ee847e68-cb80-462c-8777-d22c9238772a",
   "metadata": {},
   "outputs": [
    {
     "name": "stdout",
     "output_type": "stream",
     "text": [
      "Gurobi Optimizer version 10.0.0 build v10.0.0rc2 (mac64[rosetta2])\n",
      "\n",
      "CPU model: Apple M1\n",
      "Thread count: 8 physical cores, 8 logical processors, using up to 8 threads\n",
      "\n",
      "Optimize a model with 3400 rows, 1712 columns and 41372 nonzeros\n",
      "Model fingerprint: 0xc48519e8\n",
      "Coefficient statistics:\n",
      "  Matrix range     [5e-01, 5e+02]\n",
      "  Objective range  [6e-04, 6e-04]\n",
      "  Bounds range     [0e+00, 0e+00]\n",
      "  RHS range        [1e+01, 2e+03]\n",
      "Presolve time: 0.02s\n",
      "Presolved: 3400 rows, 1712 columns, 41372 nonzeros\n",
      "\n",
      "Concurrent LP optimizer: primal simplex, dual simplex, and barrier\n",
      "Showing barrier log only...\n",
      "\n",
      "Ordering time: 0.00s\n",
      "\n",
      "Barrier statistics:\n",
      " Dense cols : 12\n",
      " Free vars  : 12\n",
      " AA' NZ     : 2.995e+04\n",
      " Factor NZ  : 3.260e+04 (roughly 2 MB of memory)\n",
      " Factor Ops : 4.141e+05 (less than 1 second per iteration)\n",
      " Threads    : 1\n",
      "\n",
      "                  Objective                Residual\n",
      "Iter       Primal          Dual         Primal    Dual     Compl     Time\n",
      "   0   2.33436347e+03  0.00000000e+00  0.00e+00 0.00e+00  2.98e+01     0s\n",
      "   1   1.55556541e+03  1.87304053e+00  0.00e+00 3.47e-12  3.22e+00     0s\n",
      "   2   1.27193269e+02  5.95490237e+00  0.00e+00 1.20e-12  2.51e-01     0s\n",
      "   3   4.21830605e+01  2.12044674e+01  0.00e+00 5.33e-12  4.35e-02     0s\n",
      "   4   3.76964605e+01  3.32522933e+01  0.00e+00 5.95e-12  9.22e-03     0s\n",
      "   5   3.62693117e+01  3.49619457e+01  0.00e+00 5.09e-12  2.71e-03     0s\n",
      "   6   3.59017011e+01  3.56284201e+01  0.00e+00 8.26e-12  5.67e-04     0s\n",
      "   7   3.57866588e+01  3.56957018e+01  0.00e+00 2.78e-12  1.89e-04     0s\n",
      "   8   3.57444403e+01  3.57251078e+01  0.00e+00 8.09e-13  4.01e-05     0s\n",
      "   9   3.57303833e+01  3.57297240e+01  0.00e+00 1.25e-12  1.37e-06     0s\n",
      "  10   3.57300268e+01  3.57300144e+01  0.00e+00 2.20e-12  2.56e-08     0s\n",
      "  11   3.57300197e+01  3.57300197e+01  0.00e+00 7.46e-11  1.46e-11     0s\n",
      "\n",
      "Barrier solved model in 11 iterations and 0.10 seconds (0.05 work units)\n",
      "Optimal objective 3.57300197e+01\n",
      "\n",
      "Crossover log...\n",
      "\n",
      "      24 DPushes remaining with DInf 0.0000000e+00                 0s\n",
      "       0 DPushes remaining with DInf 0.0000000e+00                 0s\n",
      "\n",
      "       1 PPushes remaining with PInf 0.0000000e+00                 0s\n",
      "       0 PPushes remaining with PInf 0.0000000e+00                 0s\n",
      "\n",
      "  Push phase complete: Pinf 0.0000000e+00, Dinf 2.8002340e-14      0s\n",
      "\n",
      "\n",
      "Solved with barrier\n",
      "Iteration    Objective       Primal Inf.    Dual Inf.      Time\n",
      "      28    3.5730020e+01   0.000000e+00   0.000000e+00      0s\n",
      "\n",
      "Use crossover to convert LP symmetric solution to basic solution...\n",
      "Crossover log...\n",
      "\n",
      "       0 DPushes remaining with DInf 0.0000000e+00                 0s\n",
      "\n",
      "       1 PPushes remaining with PInf 0.0000000e+00                 0s\n",
      "       0 PPushes remaining with PInf 0.0000000e+00                 0s\n",
      "\n",
      "  Push phase complete: Pinf 0.0000000e+00, Dinf 3.5263459e-14      0s\n",
      "\n",
      "Iteration    Objective       Primal Inf.    Dual Inf.      Time\n",
      "      48    3.5730020e+01   0.000000e+00   0.000000e+00      0s\n",
      "\n",
      "Solved in 48 iterations and 0.13 seconds (0.06 work units)\n",
      "Optimal objective  3.573001974e+01\n"
     ]
    }
   ],
   "source": [
    "m1.update()\n",
    "m1.optimize()"
   ]
  },
  {
   "cell_type": "code",
   "execution_count": 8,
   "id": "a0f3a693-3243-4df2-906b-0a8a86ec7918",
   "metadata": {},
   "outputs": [
    {
     "name": "stdout",
     "output_type": "stream",
     "text": [
      "latitude : 292.9273144176643\n",
      "longitude : 84.7352951197452\n",
      "Entire home : 33.22412746150925\n",
      "accommodates : 10.587079438384528\n",
      "bathrooms : 28.741561239586503\n",
      "bedrooms : 20.217437710193302\n",
      "beds : -2.8104760271025704\n",
      "cleaning_fee : 0.4182472935851169\n",
      "minimum_nights : -1.8166763809057307\n",
      "number_of_reviews : -0.029190391189600314\n",
      "review_scores_rating : 0.27329921119059414\n",
      "instant_bookable : 3.953641200791045\n"
     ]
    }
   ],
   "source": [
    "for i in range(m):\n",
    "    print(df1.columns[i],':',beta[i].x)"
   ]
  },
  {
   "cell_type": "code",
   "execution_count": 9,
   "id": "c92620ab-6aa5-4831-b647-de2a02b26585",
   "metadata": {},
   "outputs": [],
   "source": [
    "X1 = df1.iloc[:,:-1].values\n",
    "Y1 = df1.iloc[:,-1].values\n",
    "n1 = len(df1.index)"
   ]
  },
  {
   "cell_type": "code",
   "execution_count": 18,
   "id": "518654d3-9941-4061-abb8-ab1d52e77d08",
   "metadata": {},
   "outputs": [
    {
     "name": "stdout",
     "output_type": "stream",
     "text": [
      "Prediction error: 34.606120752768526\n"
     ]
    }
   ],
   "source": [
    "error1 = 0\n",
    "for i in range(n1):\n",
    "    s = 0\n",
    "    for j in range(m):\n",
    "        s = s + X1[i][j]*beta[j].X\n",
    "    error1 = error1 + abs(s - Y1[i])\n",
    "pe1 = error1/n1\n",
    "print('Prediction error:', pe1)"
   ]
  },
  {
   "cell_type": "markdown",
   "id": "2df5bdae-7be3-430c-8970-d7b29e366ff0",
   "metadata": {},
   "source": [
    "#### Model 2:"
   ]
  },
  {
   "cell_type": "code",
   "execution_count": 10,
   "id": "ab69e3dd-ef8d-4e47-8bce-c2fc096d4583",
   "metadata": {},
   "outputs": [],
   "source": [
    "m2 = Model()\n",
    "\n",
    "beta2 = m2.addVars(m, lb = -GRB.INFINITY)\n",
    "z2 = m2.addVars(n)\n",
    "a = m2.addVars(m, vtype = GRB.BINARY)\n",
    "M = 500\n",
    "\n",
    "for i in range(n):\n",
    "    m2.addConstr(z2[i] >= Y[i] - sum(beta2[j]*X[i][j] for j in range(m)))\n",
    "    \n",
    "for i in range(n):\n",
    "    m2.addConstr(z2[i] >= sum(beta2[j]*X[i][j] for j in range(m)) - Y[i])\n",
    "    \n",
    "for i in range(m):\n",
    "    m2.addConstr(beta2[i] <= M*a[i])\n",
    "    m2.addConstr(beta2[i] >= -M*a[i])\n",
    "    \n",
    "m2.addConstr(sum(a[i] for i in range(m)) == 3)\n",
    "\n",
    "m2.setObjective((sum(z2[i] for i in range(n))/n), GRB.MINIMIZE)"
   ]
  },
  {
   "cell_type": "code",
   "execution_count": 11,
   "id": "300ab568-fe22-4a18-85dd-6ff5f3047086",
   "metadata": {},
   "outputs": [
    {
     "name": "stdout",
     "output_type": "stream",
     "text": [
      "Gurobi Optimizer version 10.0.0 build v10.0.0rc2 (mac64[rosetta2])\n",
      "\n",
      "CPU model: Apple M1\n",
      "Thread count: 8 physical cores, 8 logical processors, using up to 8 threads\n",
      "\n",
      "Optimize a model with 3425 rows, 1724 columns and 41432 nonzeros\n",
      "Model fingerprint: 0x607ae293\n",
      "Variable types: 1712 continuous, 12 integer (12 binary)\n",
      "Coefficient statistics:\n",
      "  Matrix range     [5e-01, 5e+02]\n",
      "  Objective range  [6e-04, 6e-04]\n",
      "  Bounds range     [1e+00, 1e+00]\n",
      "  RHS range        [3e+00, 2e+03]\n",
      "Found heuristic solution: objective 144.9682353\n",
      "Presolve removed 828 rows and 414 columns\n",
      "Presolve time: 0.05s\n",
      "Presolved: 2597 rows, 1310 columns, 31298 nonzeros\n",
      "Variable types: 1298 continuous, 12 integer (12 binary)\n",
      "\n",
      "Root relaxation: objective 3.573002e+01, 1939 iterations, 0.14 seconds (0.41 work units)\n",
      "\n",
      "    Nodes    |    Current Node    |     Objective Bounds      |     Work\n",
      " Expl Unexpl |  Obj  Depth IntInf | Incumbent    BestBd   Gap | It/Node Time\n",
      "\n",
      "     0     0   35.73002    0   10  144.96824   35.73002  75.4%     -    0s\n",
      "H    0     0                      54.9115521   35.73002  34.9%     -    0s\n",
      "H    0     0                      48.4697804   35.73002  26.3%     -    0s\n",
      "     0     0   35.75968    0   12   48.46978   35.75968  26.2%     -    0s\n",
      "H    0     0                      48.0928501   35.75970  25.6%     -    0s\n",
      "     0     0   35.77326    0   12   48.09285   35.77326  25.6%     -    0s\n",
      "     0     0   35.77328    0   12   48.09285   35.77328  25.6%     -    0s\n",
      "     0     0   35.77328    0   12   48.09285   35.77328  25.6%     -    0s\n",
      "H    0     0                      42.3486026   35.77328  15.5%     -    0s\n",
      "     0     0   35.78281    0   12   42.34860   35.78281  15.5%     -    0s\n",
      "     0     0   35.78281    0   12   42.34860   35.78281  15.5%     -    0s\n",
      "H    0     0                      41.3483715   35.78281  13.5%     -    0s\n",
      "H    0     0                      39.6076471   35.78281  9.66%     -    0s\n",
      "     0     2   35.78281    0   12   39.60765   35.78281  9.66%     -    0s\n",
      "*   34    14               6      38.4441647   37.30303  2.97%   121    0s\n",
      "*   40     6               6      38.3388235   37.30303  2.70%   109    0s\n",
      "\n",
      "Cutting planes:\n",
      "  Gomory: 9\n",
      "  Implied bound: 1\n",
      "  MIR: 18\n",
      "\n",
      "Explored 53 nodes (6733 simplex iterations) in 0.95 seconds (1.92 work units)\n",
      "Thread count was 8 (of 8 available processors)\n",
      "\n",
      "Solution count 9: 38.3388 38.4442 39.6076 ... 144.968\n",
      "\n",
      "Optimal solution found (tolerance 1.00e-04)\n",
      "Best objective 3.833882352941e+01, best bound 3.833882352941e+01, gap 0.0000%\n"
     ]
    }
   ],
   "source": [
    "m2.update()\n",
    "m2.optimize()"
   ]
  },
  {
   "cell_type": "markdown",
   "id": "24ac5f12-cac2-46dc-8763-b16ff481a6a0",
   "metadata": {},
   "source": [
    "##### Question 1:"
   ]
  },
  {
   "cell_type": "code",
   "execution_count": 23,
   "id": "98410bb8-6202-4f11-9d29-aa985a18256a",
   "metadata": {},
   "outputs": [
    {
     "name": "stdout",
     "output_type": "stream",
     "text": [
      "Entire home : 52.0\n",
      "accommodates : 14.0\n",
      "bedrooms : 32.0\n"
     ]
    }
   ],
   "source": [
    "for i in range(m):\n",
    "    if beta2[i].X != 0:\n",
    "        print(df1.columns[i], ':', beta2[i].X)"
   ]
  },
  {
   "cell_type": "markdown",
   "id": "01853e2e-cae2-43bb-9739-5883d82741f3",
   "metadata": {},
   "source": [
    "##### Question 2:"
   ]
  },
  {
   "cell_type": "code",
   "execution_count": 24,
   "id": "4269c442-953a-456f-abd1-aae47e9db484",
   "metadata": {},
   "outputs": [
    {
     "name": "stdout",
     "output_type": "stream",
     "text": [
      "Prediction error: 37.73676680972818\n"
     ]
    }
   ],
   "source": [
    "error2 = 0\n",
    "for i in range(n1):\n",
    "    s = 0\n",
    "    for j in range(m):\n",
    "        s = s + X1[i][j]*beta2[j].X\n",
    "    error2 = error2 + abs(s - Y1[i])\n",
    "pe2 = error2/n1\n",
    "print('Prediction error:', pe2)"
   ]
  },
  {
   "cell_type": "markdown",
   "id": "29f44617-cd3d-4b6e-b62a-886a5f912ac8",
   "metadata": {},
   "source": [
    "#### Model 3:"
   ]
  },
  {
   "cell_type": "code",
   "execution_count": 12,
   "id": "fc4496b2-d2c2-4fbd-96fc-711df550ae14",
   "metadata": {},
   "outputs": [],
   "source": [
    "m3 = Model()\n",
    "\n",
    "beta3 = m3.addVars(m, lb = -GRB.INFINITY)\n",
    "z3 = m3.addVars(n)\n",
    "a3 = m3.addVars(m, vtype = GRB.BINARY)\n",
    "\n",
    "for i in range(n):\n",
    "    m3.addConstr(z3[i] >= Y[i] - sum(beta3[j]*X[i][j] for j in range(m)))\n",
    "    \n",
    "for i in range(n):\n",
    "    m3.addConstr(z3[i] >= sum(beta3[j]*X[i][j] for j in range(m)) - Y[i])\n",
    "    \n",
    "for i in range(m):\n",
    "    m3.addConstr(beta3[i] <= M*a3[i])\n",
    "    m3.addConstr(beta3[i] >= -M*a3[i])\n",
    "    \n",
    "m3.addConstr(sum(a3[i] for i in range(m)) == 3)\n",
    "m3.addConstr(a3[6] == 1)\n",
    "\n",
    "m3.setObjective((sum(z3[i] for i in range(n))/n), GRB.MINIMIZE)"
   ]
  },
  {
   "cell_type": "code",
   "execution_count": 13,
   "id": "62eaa72c-9f06-4c0d-8c31-58ec95855cb8",
   "metadata": {},
   "outputs": [
    {
     "name": "stdout",
     "output_type": "stream",
     "text": [
      "Gurobi Optimizer version 10.0.0 build v10.0.0rc2 (mac64[rosetta2])\n",
      "\n",
      "CPU model: Apple M1\n",
      "Thread count: 8 physical cores, 8 logical processors, using up to 8 threads\n",
      "\n",
      "Optimize a model with 3426 rows, 1724 columns and 41433 nonzeros\n",
      "Model fingerprint: 0xc4d00964\n",
      "Variable types: 1712 continuous, 12 integer (12 binary)\n",
      "Coefficient statistics:\n",
      "  Matrix range     [5e-01, 5e+02]\n",
      "  Objective range  [6e-04, 6e-04]\n",
      "  Bounds range     [1e+00, 1e+00]\n",
      "  RHS range        [1e+00, 2e+03]\n",
      "Found heuristic solution: objective 144.9682353\n",
      "Presolve removed 831 rows and 415 columns\n",
      "Presolve time: 0.04s\n",
      "Presolved: 2595 rows, 1309 columns, 31293 nonzeros\n",
      "Variable types: 1298 continuous, 11 integer (11 binary)\n",
      "\n",
      "Root relaxation: objective 3.573002e+01, 1542 iterations, 0.13 seconds (0.37 work units)\n",
      "\n",
      "    Nodes    |    Current Node    |     Objective Bounds      |     Work\n",
      " Expl Unexpl |  Obj  Depth IntInf | Incumbent    BestBd   Gap | It/Node Time\n",
      "\n",
      "     0     0   35.73002    0   10  144.96824   35.73002  75.4%     -    0s\n",
      "H    0     0                      48.5855955   35.73002  26.5%     -    0s\n",
      "     0     0   35.75816    0   11   48.58560   35.75816  26.4%     -    0s\n",
      "     0     0   35.77989    0   11   48.58560   35.77989  26.4%     -    0s\n",
      "H    0     0                      45.5913350   35.77989  21.5%     -    0s\n",
      "     0     0   35.82236    0   11   45.59133   35.82236  21.4%     -    0s\n",
      "     0     0   35.82336    0   11   45.59133   35.82336  21.4%     -    0s\n",
      "     0     0   35.82492    0   11   45.59133   35.82492  21.4%     -    0s\n",
      "     0     2   35.92368    0   11   45.59133   35.92368  21.2%     -    0s\n",
      "*    5     6               2      41.1168200   36.51721  11.2%   193    0s\n",
      "*   17     4               4      40.2996078   38.62534  4.15%   205    0s\n",
      "*   21     0               5      40.0730147   39.60315  1.17%   188    0s\n",
      "\n",
      "Cutting planes:\n",
      "  Gomory: 6\n",
      "  Implied bound: 1\n",
      "  MIR: 12\n",
      "\n",
      "Explored 23 nodes (5657 simplex iterations) in 0.94 seconds (1.91 work units)\n",
      "Thread count was 8 (of 8 available processors)\n",
      "\n",
      "Solution count 6: 40.073 40.2996 41.1168 ... 144.968\n",
      "\n",
      "Optimal solution found (tolerance 1.00e-04)\n",
      "Best objective 4.007301470588e+01, best bound 4.007301470588e+01, gap 0.0000%\n"
     ]
    }
   ],
   "source": [
    "m3.update()\n",
    "m3.optimize()"
   ]
  },
  {
   "cell_type": "markdown",
   "id": "53ae4b82-5cec-448f-9496-a5004fbf769e",
   "metadata": {},
   "source": [
    "##### Question 1"
   ]
  },
  {
   "cell_type": "code",
   "execution_count": 26,
   "id": "dc1683fa-1e70-4775-9060-3ab4a6b8a2b6",
   "metadata": {},
   "outputs": [
    {
     "name": "stdout",
     "output_type": "stream",
     "text": [
      "Entire home : 67.875\n",
      "bedrooms : 47.375\n",
      "beds : 12.125\n"
     ]
    }
   ],
   "source": [
    "for i in range(m):\n",
    "    if beta3[i].X != 0:\n",
    "        print(df1.columns[i], ':', beta3[i].X)"
   ]
  },
  {
   "cell_type": "markdown",
   "id": "79a4328f-4ecc-41e5-baa6-cb11a73168c3",
   "metadata": {},
   "source": [
    "##### Question 2"
   ]
  },
  {
   "cell_type": "markdown",
   "id": "45286fd5-4d2b-4d15-ab24-ca1a4c2c6eae",
   "metadata": {},
   "source": [
    "The variable `accomodates` was dropped in model 3. This is because knowing the number of beds and bedrooms may be enough to conclude how many people the Airbnb can accomodate. This variable is thus redundant, and also correlated with `beds`."
   ]
  },
  {
   "cell_type": "markdown",
   "id": "f5685097-9b46-4702-8584-8e44710e4f21",
   "metadata": {},
   "source": [
    "##### Question 3"
   ]
  },
  {
   "cell_type": "code",
   "execution_count": 25,
   "id": "1ba3f624-1b74-4d5b-8de7-65af0991b542",
   "metadata": {},
   "outputs": [
    {
     "name": "stdout",
     "output_type": "stream",
     "text": [
      "Prediction error: 38.59960658082976\n"
     ]
    }
   ],
   "source": [
    "error3 = 0\n",
    "for i in range(n1):\n",
    "    s = 0\n",
    "    for j in range(m):\n",
    "        s = s + X1[i][j]*beta3[j].X\n",
    "    error3 = error3 + abs(s - Y1[i])\n",
    "pe3 = error3/n1\n",
    "print('Prediction error:', pe3)"
   ]
  }
 ],
 "metadata": {
  "kernelspec": {
   "display_name": "Python 3 (ipykernel)",
   "language": "python",
   "name": "python3"
  },
  "language_info": {
   "codemirror_mode": {
    "name": "ipython",
    "version": 3
   },
   "file_extension": ".py",
   "mimetype": "text/x-python",
   "name": "python",
   "nbconvert_exporter": "python",
   "pygments_lexer": "ipython3",
   "version": "3.9.13"
  }
 },
 "nbformat": 4,
 "nbformat_minor": 5
}

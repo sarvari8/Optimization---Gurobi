{
 "cells": [
  {
   "cell_type": "markdown",
   "metadata": {},
   "source": [
    "# Operating Room Scheduling\n",
    "\n"
   ]
  },
  {
   "cell_type": "code",
   "execution_count": 1,
   "metadata": {},
   "outputs": [],
   "source": [
    "# Import gurobi and numpy\n",
    "from gurobipy import *\n",
    "import numpy as np\n",
    "import pandas as pd"
   ]
  },
  {
   "cell_type": "markdown",
   "metadata": {},
   "source": [
    "#### Part (a): Minimize the total under-allocation of each department to operating rooms"
   ]
  },
  {
   "cell_type": "markdown",
   "metadata": {},
   "source": [
    "##### Parameters"
   ]
  },
  {
   "cell_type": "code",
   "execution_count": 2,
   "metadata": {},
   "outputs": [],
   "source": [
    "#                     i      target share (t)\n",
    "# General Surgery |   1          0.484  \n",
    "# Emergency       |   2          0.042\n",
    "# Neurosurgery    |   3          0.253\n",
    "# Opthalmology    |   4          0.074\n",
    "# Oral Surgery    |   5          0.053\n",
    "# Otolaryngology  |   6          0.095\n",
    "\n",
    "# Target times for the 6 departments as per the given proportion that has to be consistent\n",
    "t_i = [103.334, 8.967, 54.0155, 15.799, 11.3155, 20.2825]\n",
    "\n",
    "# Given number of hours for each day and operating room\n",
    "hours = [[9, 9, 9, 9, 7.5], [9, 9, 9, 9, 7.5], [9, 9, 9, 9, 7.5], [9, 9, 9, 9, 7.5], [9, 8, 8, 8, 6.5]]"
   ]
  },
  {
   "cell_type": "markdown",
   "metadata": {},
   "source": [
    "##### Defining the model, decision variables"
   ]
  },
  {
   "cell_type": "code",
   "execution_count": 3,
   "metadata": {},
   "outputs": [
    {
     "name": "stdout",
     "output_type": "stream",
     "text": [
      "Set parameter Username\n",
      "Academic license - for non-commercial use only - expires 2024-01-05\n"
     ]
    }
   ],
   "source": [
    "m1 = Model()\n",
    "\n",
    "# Number of departments, rooms, and days\n",
    "d = 6\n",
    "r = 5\n",
    "days = 5\n",
    "\n",
    "# x1 stores the binary decision variable (x[ijk]) which indicates 1 if the given room/day is booked and 0 if it is not\n",
    "x1 = m1.addVars(d,r,days,lb=0,vtype = GRB.BINARY)\n",
    "\n",
    "# h_a stores the actual time allocations\n",
    "h_a = m1.addVars(d)\n",
    "\n",
    "# under_a stores the underallocations\n",
    "under_a = m1.addVars(d)"
   ]
  },
  {
   "cell_type": "markdown",
   "metadata": {},
   "source": [
    "##### Constraints"
   ]
  },
  {
   "cell_type": "code",
   "execution_count": 4,
   "metadata": {},
   "outputs": [],
   "source": [
    "#  Constraint to compute actual hours assigned to each department\n",
    "for i in range(d):\n",
    "    m1.addConstr(h_a[i] == sum(x1[i, j, k] * hours[j][k] for j in range(r) for k in range(days)))\n",
    "    \n",
    "# Constraint to compute underallocations based on hours allocated to each department\n",
    "for i in range(d):\n",
    "    m1.addConstr(under_a[i] >= t_i[i] - h_a[i])\n",
    "    \n",
    "# Constraint to ignore overallocations in the model\n",
    "for i in range(d):\n",
    "    m1.addConstr(under_a[i] >= 0.0)\n",
    "    \n",
    "# Constraint to make sure only one department is booked to a given room on a given day\n",
    "for j in range(r):\n",
    "    for k in range(days):\n",
    "        m1.addConstr(sum(x1[i, j, k] for i in range(d)) <= 1)"
   ]
  },
  {
   "cell_type": "markdown",
   "metadata": {},
   "source": [
    "##### Objective Function"
   ]
  },
  {
   "cell_type": "code",
   "execution_count": 5,
   "metadata": {},
   "outputs": [],
   "source": [
    "m1.setObjective(sum(under_a[i] / t_i[i] for i in range(d)), GRB.MINIMIZE)"
   ]
  },
  {
   "cell_type": "markdown",
   "metadata": {},
   "source": [
    "##### Update and run the model"
   ]
  },
  {
   "cell_type": "code",
   "execution_count": 6,
   "metadata": {},
   "outputs": [
    {
     "name": "stdout",
     "output_type": "stream",
     "text": [
      "Gurobi Optimizer version 10.0.0 build v10.0.0rc2 (mac64[rosetta2])\n",
      "\n",
      "CPU model: Apple M1\n",
      "Thread count: 8 physical cores, 8 logical processors, using up to 8 threads\n",
      "\n",
      "Optimize a model with 43 rows, 162 columns and 324 nonzeros\n",
      "Model fingerprint: 0x7864d1b7\n",
      "Variable types: 12 continuous, 150 integer (150 binary)\n",
      "Coefficient statistics:\n",
      "  Matrix range     [1e+00, 9e+00]\n",
      "  Objective range  [1e-02, 1e-01]\n",
      "  Bounds range     [1e+00, 1e+00]\n",
      "  RHS range        [1e+00, 1e+02]\n",
      "Found heuristic solution: objective 6.0000000\n",
      "Found heuristic solution: objective 6.0000000\n",
      "Presolve removed 12 rows and 6 columns\n",
      "Presolve time: 0.00s\n",
      "Presolved: 31 rows, 156 columns, 306 nonzeros\n",
      "Variable types: 4 continuous, 152 integer (150 binary)\n",
      "Found heuristic solution: objective 5.0000000\n",
      "\n",
      "Root relaxation: objective 2.066116e-03, 57 iterations, 0.00 seconds (0.00 work units)\n",
      "\n",
      "    Nodes    |    Current Node    |     Objective Bounds      |     Work\n",
      " Expl Unexpl |  Obj  Depth IntInf | Incumbent    BestBd   Gap | It/Node Time\n",
      "\n",
      "     0     0    0.00207    0   10    5.00000    0.00207   100%     -    0s\n",
      "H    0     0                       0.1946756    0.00207  98.9%     -    0s\n",
      "H    0     0                       0.1223824    0.00207  98.3%     -    0s\n",
      "     0     0    0.05151    0    9    0.12238    0.05151  57.9%     -    0s\n",
      "H    0     0                       0.1038692    0.05177  50.2%     -    0s\n",
      "H    0     0                       0.0519060    0.05177  0.26%     -    0s\n",
      "     0     0    0.05183    0    3    0.05191    0.05183  0.15%     -    0s\n",
      "     0     0    0.05183    0   10    0.05191    0.05183  0.15%     -    0s\n",
      "     0     0    0.05183    0    4    0.05191    0.05183  0.15%     -    0s\n",
      "     0     0    0.05183    0    8    0.05191    0.05183  0.15%     -    0s\n",
      "     0     0     cutoff    0         0.05191    0.05191  0.00%     -    0s\n",
      "\n",
      "Cutting planes:\n",
      "  Gomory: 1\n",
      "  Cover: 2\n",
      "  MIR: 2\n",
      "  RLT: 1\n",
      "\n",
      "Explored 1 nodes (295 simplex iterations) in 0.03 seconds (0.00 work units)\n",
      "Thread count was 8 (of 8 available processors)\n",
      "\n",
      "Solution count 6: 0.051906 0.103869 0.122382 ... 6\n",
      "\n",
      "Optimal solution found (tolerance 1.00e-04)\n",
      "Best objective 5.190597648318e-02, best bound 5.190597648318e-02, gap 0.0000%\n"
     ]
    }
   ],
   "source": [
    "m1.update()\n",
    "m1.optimize()"
   ]
  },
  {
   "cell_type": "markdown",
   "metadata": {},
   "source": [
    "### We find that the underallocation percentage is 5.19%"
   ]
  },
  {
   "cell_type": "markdown",
   "metadata": {},
   "source": [
    "#### Part (b): Incorporating constraints into your base model to ensure that no department is allocated rooms on two different floors on the same day"
   ]
  },
  {
   "cell_type": "markdown",
   "metadata": {},
   "source": [
    "##### Additional parameter"
   ]
  },
  {
   "cell_type": "code",
   "execution_count": 7,
   "metadata": {},
   "outputs": [],
   "source": [
    "# Operating rooms in each floor\n",
    "floors = {0:[0,1],1:[2,3],2:[4]}"
   ]
  },
  {
   "cell_type": "markdown",
   "metadata": {},
   "source": [
    "##### Defining the model, decision variables"
   ]
  },
  {
   "cell_type": "code",
   "execution_count": 8,
   "metadata": {},
   "outputs": [],
   "source": [
    "m2 = Model()\n",
    "\n",
    "# x1 stores the binary decision variable (x[ijk]) which indicates 1 if the given room/day is booked and 0 if it is not\n",
    "x2 = m2.addVars(d,r,days,lb=0,vtype = GRB.BINARY)\n",
    "\n",
    "# h_b stores the actual time allocations\n",
    "h_b = m2.addVars(d)\n",
    "\n",
    "# under_b stores the underallocations\n",
    "under_b = m2.addVars(d)\n",
    "\n",
    "# z stores the allocations by floors (3)\n",
    "z = m2.addVars(d,days,3,lb=0,vtype=GRB.INTEGER)"
   ]
  },
  {
   "cell_type": "markdown",
   "metadata": {},
   "source": [
    "##### Constraints"
   ]
  },
  {
   "cell_type": "code",
   "execution_count": 9,
   "metadata": {},
   "outputs": [],
   "source": [
    "#  Constraint to compute actual hours assigned to each department\n",
    "for i in range(d):\n",
    "    m2.addConstr(h_b[i] == sum(x2[i, j, k] * hours[j][k] for j in range(r) for k in range(days)))\n",
    "\n",
    "# For each department, day and floor, the allocations by floor:\n",
    "for i in range(d):\n",
    "    for j in range(days):\n",
    "        for l in range(3):\n",
    "            m2.addConstr(z[i,j,l] == sum(x2[i, j, fl] for fl in floors[l]))"
   ]
  },
  {
   "cell_type": "code",
   "execution_count": 10,
   "metadata": {},
   "outputs": [],
   "source": [
    "# y is a binary decision variable that stores 1 if a floor has an allocation for given dept and day\n",
    "y = m2.addVars(d,days,3,vtype = GRB.BINARY)\n",
    "\n",
    "# M is assigned a large positive number\n",
    "M = 20\n",
    "\n",
    "for i in range(d):\n",
    "    for j in range(days):\n",
    "        \n",
    "        m2.addConstr(z[i,j,0] <= M*y[i,j,0])\n",
    "        m2.addConstr(z[i,j,1] <= M*y[i,j,1])\n",
    "        m2.addConstr(z[i,j,2] <= M*y[i,j,2])\n",
    "        \n",
    "        m2.addConstr(z[i,j,0] >= y[i,j,0])\n",
    "        m2.addConstr(z[i,j,1] >= y[i,j,1])\n",
    "        m2.addConstr(z[i,j,2] >= y[i,j,2])\n",
    "        \n",
    "        # Enforces that only one floor is used by each department in a day\n",
    "        m2.addConstr(y[i,j,0]+y[i,j,1]+y[i,j,2]<=1)"
   ]
  },
  {
   "cell_type": "code",
   "execution_count": 11,
   "metadata": {},
   "outputs": [],
   "source": [
    "# Constraint to compute underallocations based on hours allocated to each department\n",
    "for i in range(d):\n",
    "    m2.addConstr(under_b[i] >= t_i[i] - h_b[i])\n",
    "    \n",
    "# Constraint to ignore overallocations in the model\n",
    "for i in range(d):\n",
    "    m2.addConstr(under_b[i] >= 0.0)\n",
    "    \n",
    "# Constraint to make sure only one department is booked to a given room on a given day\n",
    "for j in range(r):\n",
    "    for k in range(days):\n",
    "        m2.addConstr(sum(x2[i, j, k] for i in range(d)) <= 1)"
   ]
  },
  {
   "cell_type": "markdown",
   "metadata": {},
   "source": [
    "##### Objective Function"
   ]
  },
  {
   "cell_type": "code",
   "execution_count": 12,
   "metadata": {},
   "outputs": [],
   "source": [
    "m2.setObjective(sum(under_b[i] / t_i[i] for i in range(d)), GRB.MINIMIZE)"
   ]
  },
  {
   "cell_type": "markdown",
   "metadata": {},
   "source": [
    "##### Update and run the model"
   ]
  },
  {
   "cell_type": "code",
   "execution_count": 13,
   "metadata": {},
   "outputs": [
    {
     "name": "stdout",
     "output_type": "stream",
     "text": [
      "Gurobi Optimizer version 10.0.0 build v10.0.0rc2 (mac64[rosetta2])\n",
      "\n",
      "CPU model: Apple M1\n",
      "Thread count: 8 physical cores, 8 logical processors, using up to 8 threads\n",
      "\n",
      "Optimize a model with 343 rows, 342 columns and 1014 nonzeros\n",
      "Model fingerprint: 0x4c4e195b\n",
      "Variable types: 12 continuous, 330 integer (240 binary)\n",
      "Coefficient statistics:\n",
      "  Matrix range     [1e+00, 2e+01]\n",
      "  Objective range  [1e-02, 1e-01]\n",
      "  Bounds range     [1e+00, 1e+00]\n",
      "  RHS range        [1e+00, 1e+02]\n",
      "Found heuristic solution: objective 6.0000000\n",
      "Found heuristic solution: objective 6.0000000\n",
      "Presolve removed 162 rows and 126 columns\n",
      "Presolve time: 0.00s\n",
      "Presolved: 181 rows, 216 columns, 756 nonzeros\n",
      "Variable types: 4 continuous, 212 integer (210 binary)\n",
      "Found heuristic solution: objective 5.9998574\n",
      "\n",
      "Root relaxation: objective 1.387152e-01, 119 iterations, 0.00 seconds (0.00 work units)\n",
      "\n",
      "    Nodes    |    Current Node    |     Objective Bounds      |     Work\n",
      " Expl Unexpl |  Obj  Depth IntInf | Incumbent    BestBd   Gap | It/Node Time\n",
      "\n",
      "     0     0    0.13872    0    2    5.99986    0.13872  97.7%     -    0s\n",
      "H    0     0                       0.1575154    0.13872  11.9%     -    0s\n",
      "H    0     0                       0.1387152    0.13872  0.00%     -    0s\n",
      "     0     0    0.13872    0    2    0.13872    0.13872  0.00%     -    0s\n",
      "\n",
      "Explored 1 nodes (216 simplex iterations) in 0.01 seconds (0.00 work units)\n",
      "Thread count was 8 (of 8 available processors)\n",
      "\n",
      "Solution count 4: 0.138715 0.157515 5.99986 6 \n",
      "\n",
      "Optimal solution found (tolerance 1.00e-04)\n",
      "Best objective 1.387152340953e-01, best bound 1.387152340953e-01, gap 0.0000%\n"
     ]
    }
   ],
   "source": [
    "m2.update()\n",
    "m2.optimize()"
   ]
  },
  {
   "cell_type": "markdown",
   "metadata": {},
   "source": [
    "#### Optimal value after minimization is 0.138"
   ]
  }
 ],
 "metadata": {
  "kernelspec": {
   "display_name": "Python 3 (ipykernel)",
   "language": "python",
   "name": "python3"
  },
  "language_info": {
   "codemirror_mode": {
    "name": "ipython",
    "version": 3
   },
   "file_extension": ".py",
   "mimetype": "text/x-python",
   "name": "python",
   "nbconvert_exporter": "python",
   "pygments_lexer": "ipython3",
   "version": "3.9.13"
  }
 },
 "nbformat": 4,
 "nbformat_minor": 4
}
